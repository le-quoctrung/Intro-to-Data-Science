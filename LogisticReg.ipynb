{
 "cells": [
  {
   "attachments": {},
   "cell_type": "markdown",
   "metadata": {},
   "source": [
    "# Logistic Regression\n",
    "- Trong file này em sẽ chọn lọc các feature cần thiết và nhãn để build model logistic regression và dự đoán xem giá cổ phiếu Close vào ngày mai sẽ tăng hay giảm so với hôm nay."
   ]
  },
  {
   "attachments": {},
   "cell_type": "markdown",
   "metadata": {},
   "source": [
    "## 1. Import những thư viện cần thiết\n",
    "- Logistic Regression model từ sklearn\n",
    "- numpy, pandas để xử lí dữ liệu\n",
    "- confusion_maxtrix,ConfusionMatrixDisplay,classification_report để đánh giá mô hình"
   ]
  },
  {
   "cell_type": "code",
   "execution_count": 62,
   "metadata": {},
   "outputs": [],
   "source": [
    "from sklearn.linear_model import LogisticRegression\n",
    "import pandas as pd\n",
    "import numpy as np\n",
    "from sklearn.metrics import confusion_matrix\n",
    "from sklearn.metrics import ConfusionMatrixDisplay\n",
    "from sklearn.metrics import classification_report"
   ]
  },
  {
   "attachments": {},
   "cell_type": "markdown",
   "metadata": {},
   "source": [
    "## 2. Xử lí dữ liệu và xây dựng mô hình, dự đoán"
   ]
  },
  {
   "attachments": {},
   "cell_type": "markdown",
   "metadata": {},
   "source": [
    "- Chúng ta sẽ đọc dữ liệu về giá ở file price.csv đã được xử lí từ trước\n",
    "- Vì file này tổng hợp của nhiều thương hiệu nên em sẽ chọn ra 1 thương hiệu để dự đoán là Apple"
   ]
  },
  {
   "cell_type": "code",
   "execution_count": 63,
   "metadata": {},
   "outputs": [
    {
     "data": {
      "text/html": [
       "<div>\n",
       "<style scoped>\n",
       "    .dataframe tbody tr th:only-of-type {\n",
       "        vertical-align: middle;\n",
       "    }\n",
       "\n",
       "    .dataframe tbody tr th {\n",
       "        vertical-align: top;\n",
       "    }\n",
       "\n",
       "    .dataframe thead th {\n",
       "        text-align: right;\n",
       "    }\n",
       "</style>\n",
       "<table border=\"1\" class=\"dataframe\">\n",
       "  <thead>\n",
       "    <tr style=\"text-align: right;\">\n",
       "      <th></th>\n",
       "      <th>Date</th>\n",
       "      <th>Open</th>\n",
       "      <th>High</th>\n",
       "      <th>Low</th>\n",
       "      <th>Close</th>\n",
       "      <th>Adj Close</th>\n",
       "      <th>Volume</th>\n",
       "      <th>Ticker</th>\n",
       "    </tr>\n",
       "  </thead>\n",
       "  <tbody>\n",
       "    <tr>\n",
       "      <th>0</th>\n",
       "      <td>2018-12-03</td>\n",
       "      <td>46.115002</td>\n",
       "      <td>46.235001</td>\n",
       "      <td>45.302502</td>\n",
       "      <td>46.205002</td>\n",
       "      <td>44.595947</td>\n",
       "      <td>163210000</td>\n",
       "      <td>AAPL</td>\n",
       "    </tr>\n",
       "    <tr>\n",
       "      <th>1</th>\n",
       "      <td>2018-12-04</td>\n",
       "      <td>45.237499</td>\n",
       "      <td>45.597500</td>\n",
       "      <td>44.067501</td>\n",
       "      <td>44.172501</td>\n",
       "      <td>42.634228</td>\n",
       "      <td>165377200</td>\n",
       "      <td>AAPL</td>\n",
       "    </tr>\n",
       "    <tr>\n",
       "      <th>2</th>\n",
       "      <td>2018-12-06</td>\n",
       "      <td>42.939999</td>\n",
       "      <td>43.695000</td>\n",
       "      <td>42.605000</td>\n",
       "      <td>43.680000</td>\n",
       "      <td>42.158878</td>\n",
       "      <td>172393600</td>\n",
       "      <td>AAPL</td>\n",
       "    </tr>\n",
       "    <tr>\n",
       "      <th>3</th>\n",
       "      <td>2018-12-07</td>\n",
       "      <td>43.372501</td>\n",
       "      <td>43.622501</td>\n",
       "      <td>42.075001</td>\n",
       "      <td>42.122501</td>\n",
       "      <td>40.655613</td>\n",
       "      <td>169126400</td>\n",
       "      <td>AAPL</td>\n",
       "    </tr>\n",
       "    <tr>\n",
       "      <th>4</th>\n",
       "      <td>2018-12-10</td>\n",
       "      <td>41.250000</td>\n",
       "      <td>42.522499</td>\n",
       "      <td>40.832500</td>\n",
       "      <td>42.400002</td>\n",
       "      <td>40.923454</td>\n",
       "      <td>248104000</td>\n",
       "      <td>AAPL</td>\n",
       "    </tr>\n",
       "    <tr>\n",
       "      <th>...</th>\n",
       "      <td>...</td>\n",
       "      <td>...</td>\n",
       "      <td>...</td>\n",
       "      <td>...</td>\n",
       "      <td>...</td>\n",
       "      <td>...</td>\n",
       "      <td>...</td>\n",
       "      <td>...</td>\n",
       "    </tr>\n",
       "    <tr>\n",
       "      <th>1003</th>\n",
       "      <td>2022-11-28</td>\n",
       "      <td>145.139999</td>\n",
       "      <td>146.639999</td>\n",
       "      <td>143.380005</td>\n",
       "      <td>144.220001</td>\n",
       "      <td>144.220001</td>\n",
       "      <td>69246000</td>\n",
       "      <td>AAPL</td>\n",
       "    </tr>\n",
       "    <tr>\n",
       "      <th>1004</th>\n",
       "      <td>2022-11-29</td>\n",
       "      <td>144.289993</td>\n",
       "      <td>144.809998</td>\n",
       "      <td>140.350006</td>\n",
       "      <td>141.169998</td>\n",
       "      <td>141.169998</td>\n",
       "      <td>83763800</td>\n",
       "      <td>AAPL</td>\n",
       "    </tr>\n",
       "    <tr>\n",
       "      <th>1005</th>\n",
       "      <td>2022-11-30</td>\n",
       "      <td>141.399994</td>\n",
       "      <td>148.720001</td>\n",
       "      <td>140.550003</td>\n",
       "      <td>148.029999</td>\n",
       "      <td>148.029999</td>\n",
       "      <td>111380900</td>\n",
       "      <td>AAPL</td>\n",
       "    </tr>\n",
       "    <tr>\n",
       "      <th>1006</th>\n",
       "      <td>2022-12-01</td>\n",
       "      <td>148.210007</td>\n",
       "      <td>149.130005</td>\n",
       "      <td>146.610001</td>\n",
       "      <td>148.309998</td>\n",
       "      <td>148.309998</td>\n",
       "      <td>71250400</td>\n",
       "      <td>AAPL</td>\n",
       "    </tr>\n",
       "    <tr>\n",
       "      <th>1007</th>\n",
       "      <td>2022-12-02</td>\n",
       "      <td>145.960007</td>\n",
       "      <td>148.000000</td>\n",
       "      <td>145.650101</td>\n",
       "      <td>147.809998</td>\n",
       "      <td>147.809998</td>\n",
       "      <td>62231328</td>\n",
       "      <td>AAPL</td>\n",
       "    </tr>\n",
       "  </tbody>\n",
       "</table>\n",
       "<p>1008 rows × 8 columns</p>\n",
       "</div>"
      ],
      "text/plain": [
       "            Date        Open        High         Low       Close   Adj Close  \\\n",
       "0     2018-12-03   46.115002   46.235001   45.302502   46.205002   44.595947   \n",
       "1     2018-12-04   45.237499   45.597500   44.067501   44.172501   42.634228   \n",
       "2     2018-12-06   42.939999   43.695000   42.605000   43.680000   42.158878   \n",
       "3     2018-12-07   43.372501   43.622501   42.075001   42.122501   40.655613   \n",
       "4     2018-12-10   41.250000   42.522499   40.832500   42.400002   40.923454   \n",
       "...          ...         ...         ...         ...         ...         ...   \n",
       "1003  2022-11-28  145.139999  146.639999  143.380005  144.220001  144.220001   \n",
       "1004  2022-11-29  144.289993  144.809998  140.350006  141.169998  141.169998   \n",
       "1005  2022-11-30  141.399994  148.720001  140.550003  148.029999  148.029999   \n",
       "1006  2022-12-01  148.210007  149.130005  146.610001  148.309998  148.309998   \n",
       "1007  2022-12-02  145.960007  148.000000  145.650101  147.809998  147.809998   \n",
       "\n",
       "         Volume Ticker  \n",
       "0     163210000   AAPL  \n",
       "1     165377200   AAPL  \n",
       "2     172393600   AAPL  \n",
       "3     169126400   AAPL  \n",
       "4     248104000   AAPL  \n",
       "...         ...    ...  \n",
       "1003   69246000   AAPL  \n",
       "1004   83763800   AAPL  \n",
       "1005  111380900   AAPL  \n",
       "1006   71250400   AAPL  \n",
       "1007   62231328   AAPL  \n",
       "\n",
       "[1008 rows x 8 columns]"
      ]
     },
     "execution_count": 63,
     "metadata": {},
     "output_type": "execute_result"
    }
   ],
   "source": [
    "df = pd.read_csv('data/price.csv')\n",
    "df_AAPL = df.loc[df['Ticker']=='AAPL']\n",
    "df_AAPL\n"
   ]
  },
  {
   "attachments": {},
   "cell_type": "markdown",
   "metadata": {},
   "source": [
    "- Bỏ đi những cột data không cần thiết là Date và Ticker sau đó dùng pct_change() để tính phần trăm thay đổi của hôm nay so với hôm trước đó"
   ]
  },
  {
   "cell_type": "code",
   "execution_count": 64,
   "metadata": {},
   "outputs": [
    {
     "data": {
      "text/html": [
       "<div>\n",
       "<style scoped>\n",
       "    .dataframe tbody tr th:only-of-type {\n",
       "        vertical-align: middle;\n",
       "    }\n",
       "\n",
       "    .dataframe tbody tr th {\n",
       "        vertical-align: top;\n",
       "    }\n",
       "\n",
       "    .dataframe thead th {\n",
       "        text-align: right;\n",
       "    }\n",
       "</style>\n",
       "<table border=\"1\" class=\"dataframe\">\n",
       "  <thead>\n",
       "    <tr style=\"text-align: right;\">\n",
       "      <th></th>\n",
       "      <th>Open</th>\n",
       "      <th>High</th>\n",
       "      <th>Low</th>\n",
       "      <th>Close</th>\n",
       "      <th>Adj Close</th>\n",
       "      <th>Volume</th>\n",
       "    </tr>\n",
       "  </thead>\n",
       "  <tbody>\n",
       "    <tr>\n",
       "      <th>0</th>\n",
       "      <td>NaN</td>\n",
       "      <td>NaN</td>\n",
       "      <td>NaN</td>\n",
       "      <td>NaN</td>\n",
       "      <td>NaN</td>\n",
       "      <td>NaN</td>\n",
       "    </tr>\n",
       "    <tr>\n",
       "      <th>1</th>\n",
       "      <td>-1.902857</td>\n",
       "      <td>-1.378827</td>\n",
       "      <td>-2.726120</td>\n",
       "      <td>-4.398877</td>\n",
       "      <td>-4.398874</td>\n",
       "      <td>1.327860</td>\n",
       "    </tr>\n",
       "    <tr>\n",
       "      <th>2</th>\n",
       "      <td>-5.078752</td>\n",
       "      <td>-4.172378</td>\n",
       "      <td>-3.318776</td>\n",
       "      <td>-1.114948</td>\n",
       "      <td>-1.114948</td>\n",
       "      <td>4.242665</td>\n",
       "    </tr>\n",
       "    <tr>\n",
       "      <th>3</th>\n",
       "      <td>1.007226</td>\n",
       "      <td>-0.165919</td>\n",
       "      <td>-1.243983</td>\n",
       "      <td>-3.565703</td>\n",
       "      <td>-3.565715</td>\n",
       "      <td>-1.895198</td>\n",
       "    </tr>\n",
       "    <tr>\n",
       "      <th>4</th>\n",
       "      <td>-4.893657</td>\n",
       "      <td>-2.521640</td>\n",
       "      <td>-2.953061</td>\n",
       "      <td>0.658793</td>\n",
       "      <td>0.658805</td>\n",
       "      <td>46.697381</td>\n",
       "    </tr>\n",
       "    <tr>\n",
       "      <th>...</th>\n",
       "      <td>...</td>\n",
       "      <td>...</td>\n",
       "      <td>...</td>\n",
       "      <td>...</td>\n",
       "      <td>...</td>\n",
       "      <td>...</td>\n",
       "    </tr>\n",
       "    <tr>\n",
       "      <th>1003</th>\n",
       "      <td>-2.137414</td>\n",
       "      <td>-1.504571</td>\n",
       "      <td>-2.542136</td>\n",
       "      <td>-2.626426</td>\n",
       "      <td>-2.626426</td>\n",
       "      <td>96.744507</td>\n",
       "    </tr>\n",
       "    <tr>\n",
       "      <th>1004</th>\n",
       "      <td>-0.585646</td>\n",
       "      <td>-1.247955</td>\n",
       "      <td>-2.113265</td>\n",
       "      <td>-2.114827</td>\n",
       "      <td>-2.114827</td>\n",
       "      <td>20.965543</td>\n",
       "    </tr>\n",
       "    <tr>\n",
       "      <th>1005</th>\n",
       "      <td>-2.002910</td>\n",
       "      <td>2.700092</td>\n",
       "      <td>0.142499</td>\n",
       "      <td>4.859390</td>\n",
       "      <td>4.859390</td>\n",
       "      <td>32.970209</td>\n",
       "    </tr>\n",
       "    <tr>\n",
       "      <th>1006</th>\n",
       "      <td>4.816134</td>\n",
       "      <td>0.275688</td>\n",
       "      <td>4.311631</td>\n",
       "      <td>0.189150</td>\n",
       "      <td>0.189150</td>\n",
       "      <td>-36.029966</td>\n",
       "    </tr>\n",
       "    <tr>\n",
       "      <th>1007</th>\n",
       "      <td>-1.518116</td>\n",
       "      <td>-0.757731</td>\n",
       "      <td>-0.654730</td>\n",
       "      <td>-0.337132</td>\n",
       "      <td>-0.337132</td>\n",
       "      <td>-12.658276</td>\n",
       "    </tr>\n",
       "  </tbody>\n",
       "</table>\n",
       "<p>1008 rows × 6 columns</p>\n",
       "</div>"
      ],
      "text/plain": [
       "          Open      High       Low     Close  Adj Close     Volume\n",
       "0          NaN       NaN       NaN       NaN        NaN        NaN\n",
       "1    -1.902857 -1.378827 -2.726120 -4.398877  -4.398874   1.327860\n",
       "2    -5.078752 -4.172378 -3.318776 -1.114948  -1.114948   4.242665\n",
       "3     1.007226 -0.165919 -1.243983 -3.565703  -3.565715  -1.895198\n",
       "4    -4.893657 -2.521640 -2.953061  0.658793   0.658805  46.697381\n",
       "...        ...       ...       ...       ...        ...        ...\n",
       "1003 -2.137414 -1.504571 -2.542136 -2.626426  -2.626426  96.744507\n",
       "1004 -0.585646 -1.247955 -2.113265 -2.114827  -2.114827  20.965543\n",
       "1005 -2.002910  2.700092  0.142499  4.859390   4.859390  32.970209\n",
       "1006  4.816134  0.275688  4.311631  0.189150   0.189150 -36.029966\n",
       "1007 -1.518116 -0.757731 -0.654730 -0.337132  -0.337132 -12.658276\n",
       "\n",
       "[1008 rows x 6 columns]"
      ]
     },
     "execution_count": 64,
     "metadata": {},
     "output_type": "execute_result"
    }
   ],
   "source": [
    "data = df_AAPL.drop(['Date','Ticker'],axis=1).pct_change()*100\n",
    "data"
   ]
  },
  {
   "attachments": {},
   "cell_type": "markdown",
   "metadata": {},
   "source": [
    "- Bỏ đi những dòng có giá trị NaN"
   ]
  },
  {
   "cell_type": "code",
   "execution_count": 65,
   "metadata": {},
   "outputs": [
    {
     "data": {
      "text/html": [
       "<div>\n",
       "<style scoped>\n",
       "    .dataframe tbody tr th:only-of-type {\n",
       "        vertical-align: middle;\n",
       "    }\n",
       "\n",
       "    .dataframe tbody tr th {\n",
       "        vertical-align: top;\n",
       "    }\n",
       "\n",
       "    .dataframe thead th {\n",
       "        text-align: right;\n",
       "    }\n",
       "</style>\n",
       "<table border=\"1\" class=\"dataframe\">\n",
       "  <thead>\n",
       "    <tr style=\"text-align: right;\">\n",
       "      <th></th>\n",
       "      <th>Open</th>\n",
       "      <th>High</th>\n",
       "      <th>Low</th>\n",
       "      <th>Close</th>\n",
       "      <th>Adj Close</th>\n",
       "      <th>Volume</th>\n",
       "    </tr>\n",
       "  </thead>\n",
       "  <tbody>\n",
       "    <tr>\n",
       "      <th>1</th>\n",
       "      <td>-1.902857</td>\n",
       "      <td>-1.378827</td>\n",
       "      <td>-2.726120</td>\n",
       "      <td>-4.398877</td>\n",
       "      <td>-4.398874</td>\n",
       "      <td>1.327860</td>\n",
       "    </tr>\n",
       "    <tr>\n",
       "      <th>2</th>\n",
       "      <td>-5.078752</td>\n",
       "      <td>-4.172378</td>\n",
       "      <td>-3.318776</td>\n",
       "      <td>-1.114948</td>\n",
       "      <td>-1.114948</td>\n",
       "      <td>4.242665</td>\n",
       "    </tr>\n",
       "    <tr>\n",
       "      <th>3</th>\n",
       "      <td>1.007226</td>\n",
       "      <td>-0.165919</td>\n",
       "      <td>-1.243983</td>\n",
       "      <td>-3.565703</td>\n",
       "      <td>-3.565715</td>\n",
       "      <td>-1.895198</td>\n",
       "    </tr>\n",
       "    <tr>\n",
       "      <th>4</th>\n",
       "      <td>-4.893657</td>\n",
       "      <td>-2.521640</td>\n",
       "      <td>-2.953061</td>\n",
       "      <td>0.658793</td>\n",
       "      <td>0.658805</td>\n",
       "      <td>46.697381</td>\n",
       "    </tr>\n",
       "    <tr>\n",
       "      <th>5</th>\n",
       "      <td>4.036366</td>\n",
       "      <td>0.999469</td>\n",
       "      <td>2.246983</td>\n",
       "      <td>-0.571935</td>\n",
       "      <td>-0.571951</td>\n",
       "      <td>-23.771160</td>\n",
       "    </tr>\n",
       "    <tr>\n",
       "      <th>...</th>\n",
       "      <td>...</td>\n",
       "      <td>...</td>\n",
       "      <td>...</td>\n",
       "      <td>...</td>\n",
       "      <td>...</td>\n",
       "      <td>...</td>\n",
       "    </tr>\n",
       "    <tr>\n",
       "      <th>1003</th>\n",
       "      <td>-2.137414</td>\n",
       "      <td>-1.504571</td>\n",
       "      <td>-2.542136</td>\n",
       "      <td>-2.626426</td>\n",
       "      <td>-2.626426</td>\n",
       "      <td>96.744507</td>\n",
       "    </tr>\n",
       "    <tr>\n",
       "      <th>1004</th>\n",
       "      <td>-0.585646</td>\n",
       "      <td>-1.247955</td>\n",
       "      <td>-2.113265</td>\n",
       "      <td>-2.114827</td>\n",
       "      <td>-2.114827</td>\n",
       "      <td>20.965543</td>\n",
       "    </tr>\n",
       "    <tr>\n",
       "      <th>1005</th>\n",
       "      <td>-2.002910</td>\n",
       "      <td>2.700092</td>\n",
       "      <td>0.142499</td>\n",
       "      <td>4.859390</td>\n",
       "      <td>4.859390</td>\n",
       "      <td>32.970209</td>\n",
       "    </tr>\n",
       "    <tr>\n",
       "      <th>1006</th>\n",
       "      <td>4.816134</td>\n",
       "      <td>0.275688</td>\n",
       "      <td>4.311631</td>\n",
       "      <td>0.189150</td>\n",
       "      <td>0.189150</td>\n",
       "      <td>-36.029966</td>\n",
       "    </tr>\n",
       "    <tr>\n",
       "      <th>1007</th>\n",
       "      <td>-1.518116</td>\n",
       "      <td>-0.757731</td>\n",
       "      <td>-0.654730</td>\n",
       "      <td>-0.337132</td>\n",
       "      <td>-0.337132</td>\n",
       "      <td>-12.658276</td>\n",
       "    </tr>\n",
       "  </tbody>\n",
       "</table>\n",
       "<p>1007 rows × 6 columns</p>\n",
       "</div>"
      ],
      "text/plain": [
       "          Open      High       Low     Close  Adj Close     Volume\n",
       "1    -1.902857 -1.378827 -2.726120 -4.398877  -4.398874   1.327860\n",
       "2    -5.078752 -4.172378 -3.318776 -1.114948  -1.114948   4.242665\n",
       "3     1.007226 -0.165919 -1.243983 -3.565703  -3.565715  -1.895198\n",
       "4    -4.893657 -2.521640 -2.953061  0.658793   0.658805  46.697381\n",
       "5     4.036366  0.999469  2.246983 -0.571935  -0.571951 -23.771160\n",
       "...        ...       ...       ...       ...        ...        ...\n",
       "1003 -2.137414 -1.504571 -2.542136 -2.626426  -2.626426  96.744507\n",
       "1004 -0.585646 -1.247955 -2.113265 -2.114827  -2.114827  20.965543\n",
       "1005 -2.002910  2.700092  0.142499  4.859390   4.859390  32.970209\n",
       "1006  4.816134  0.275688  4.311631  0.189150   0.189150 -36.029966\n",
       "1007 -1.518116 -0.757731 -0.654730 -0.337132  -0.337132 -12.658276\n",
       "\n",
       "[1007 rows x 6 columns]"
      ]
     },
     "execution_count": 65,
     "metadata": {},
     "output_type": "execute_result"
    }
   ],
   "source": [
    "\n",
    "data=data.dropna()\n",
    "data"
   ]
  },
  {
   "attachments": {},
   "cell_type": "markdown",
   "metadata": {},
   "source": [
    "- Tạo nhãn để dự đoán: Nếu Close mang giá trị âm hoặc bằng 0, nghĩa là giá cổ phiếu Close hôm nay đã giảm đi hoặc không đổi so với hôm qua thì sẽ mang nhãn 0, ngược lại là nhãn 1"
   ]
  },
  {
   "cell_type": "code",
   "execution_count": 66,
   "metadata": {},
   "outputs": [
    {
     "name": "stderr",
     "output_type": "stream",
     "text": [
      "C:\\Users\\trann\\AppData\\Local\\Temp\\ipykernel_21420\\1257823484.py:1: SettingWithCopyWarning: \n",
      "A value is trying to be set on a copy of a slice from a DataFrame.\n",
      "Try using .loc[row_indexer,col_indexer] = value instead\n",
      "\n",
      "See the caveats in the documentation: https://pandas.pydata.org/pandas-docs/stable/user_guide/indexing.html#returning-a-view-versus-a-copy\n",
      "  data['Direction'] = [1 if i > 0 else 0 for i in data['Close']]\n"
     ]
    },
    {
     "data": {
      "text/html": [
       "<div>\n",
       "<style scoped>\n",
       "    .dataframe tbody tr th:only-of-type {\n",
       "        vertical-align: middle;\n",
       "    }\n",
       "\n",
       "    .dataframe tbody tr th {\n",
       "        vertical-align: top;\n",
       "    }\n",
       "\n",
       "    .dataframe thead th {\n",
       "        text-align: right;\n",
       "    }\n",
       "</style>\n",
       "<table border=\"1\" class=\"dataframe\">\n",
       "  <thead>\n",
       "    <tr style=\"text-align: right;\">\n",
       "      <th></th>\n",
       "      <th>Open</th>\n",
       "      <th>High</th>\n",
       "      <th>Low</th>\n",
       "      <th>Close</th>\n",
       "      <th>Adj Close</th>\n",
       "      <th>Volume</th>\n",
       "      <th>Direction</th>\n",
       "    </tr>\n",
       "  </thead>\n",
       "  <tbody>\n",
       "    <tr>\n",
       "      <th>1</th>\n",
       "      <td>-1.902857</td>\n",
       "      <td>-1.378827</td>\n",
       "      <td>-2.726120</td>\n",
       "      <td>-4.398877</td>\n",
       "      <td>-4.398874</td>\n",
       "      <td>1.327860</td>\n",
       "      <td>0</td>\n",
       "    </tr>\n",
       "    <tr>\n",
       "      <th>2</th>\n",
       "      <td>-5.078752</td>\n",
       "      <td>-4.172378</td>\n",
       "      <td>-3.318776</td>\n",
       "      <td>-1.114948</td>\n",
       "      <td>-1.114948</td>\n",
       "      <td>4.242665</td>\n",
       "      <td>0</td>\n",
       "    </tr>\n",
       "    <tr>\n",
       "      <th>3</th>\n",
       "      <td>1.007226</td>\n",
       "      <td>-0.165919</td>\n",
       "      <td>-1.243983</td>\n",
       "      <td>-3.565703</td>\n",
       "      <td>-3.565715</td>\n",
       "      <td>-1.895198</td>\n",
       "      <td>0</td>\n",
       "    </tr>\n",
       "    <tr>\n",
       "      <th>4</th>\n",
       "      <td>-4.893657</td>\n",
       "      <td>-2.521640</td>\n",
       "      <td>-2.953061</td>\n",
       "      <td>0.658793</td>\n",
       "      <td>0.658805</td>\n",
       "      <td>46.697381</td>\n",
       "      <td>1</td>\n",
       "    </tr>\n",
       "    <tr>\n",
       "      <th>5</th>\n",
       "      <td>4.036366</td>\n",
       "      <td>0.999469</td>\n",
       "      <td>2.246983</td>\n",
       "      <td>-0.571935</td>\n",
       "      <td>-0.571951</td>\n",
       "      <td>-23.771160</td>\n",
       "      <td>0</td>\n",
       "    </tr>\n",
       "    <tr>\n",
       "      <th>...</th>\n",
       "      <td>...</td>\n",
       "      <td>...</td>\n",
       "      <td>...</td>\n",
       "      <td>...</td>\n",
       "      <td>...</td>\n",
       "      <td>...</td>\n",
       "      <td>...</td>\n",
       "    </tr>\n",
       "    <tr>\n",
       "      <th>1003</th>\n",
       "      <td>-2.137414</td>\n",
       "      <td>-1.504571</td>\n",
       "      <td>-2.542136</td>\n",
       "      <td>-2.626426</td>\n",
       "      <td>-2.626426</td>\n",
       "      <td>96.744507</td>\n",
       "      <td>0</td>\n",
       "    </tr>\n",
       "    <tr>\n",
       "      <th>1004</th>\n",
       "      <td>-0.585646</td>\n",
       "      <td>-1.247955</td>\n",
       "      <td>-2.113265</td>\n",
       "      <td>-2.114827</td>\n",
       "      <td>-2.114827</td>\n",
       "      <td>20.965543</td>\n",
       "      <td>0</td>\n",
       "    </tr>\n",
       "    <tr>\n",
       "      <th>1005</th>\n",
       "      <td>-2.002910</td>\n",
       "      <td>2.700092</td>\n",
       "      <td>0.142499</td>\n",
       "      <td>4.859390</td>\n",
       "      <td>4.859390</td>\n",
       "      <td>32.970209</td>\n",
       "      <td>1</td>\n",
       "    </tr>\n",
       "    <tr>\n",
       "      <th>1006</th>\n",
       "      <td>4.816134</td>\n",
       "      <td>0.275688</td>\n",
       "      <td>4.311631</td>\n",
       "      <td>0.189150</td>\n",
       "      <td>0.189150</td>\n",
       "      <td>-36.029966</td>\n",
       "      <td>1</td>\n",
       "    </tr>\n",
       "    <tr>\n",
       "      <th>1007</th>\n",
       "      <td>-1.518116</td>\n",
       "      <td>-0.757731</td>\n",
       "      <td>-0.654730</td>\n",
       "      <td>-0.337132</td>\n",
       "      <td>-0.337132</td>\n",
       "      <td>-12.658276</td>\n",
       "      <td>0</td>\n",
       "    </tr>\n",
       "  </tbody>\n",
       "</table>\n",
       "<p>1007 rows × 7 columns</p>\n",
       "</div>"
      ],
      "text/plain": [
       "          Open      High       Low     Close  Adj Close     Volume  Direction\n",
       "1    -1.902857 -1.378827 -2.726120 -4.398877  -4.398874   1.327860          0\n",
       "2    -5.078752 -4.172378 -3.318776 -1.114948  -1.114948   4.242665          0\n",
       "3     1.007226 -0.165919 -1.243983 -3.565703  -3.565715  -1.895198          0\n",
       "4    -4.893657 -2.521640 -2.953061  0.658793   0.658805  46.697381          1\n",
       "5     4.036366  0.999469  2.246983 -0.571935  -0.571951 -23.771160          0\n",
       "...        ...       ...       ...       ...        ...        ...        ...\n",
       "1003 -2.137414 -1.504571 -2.542136 -2.626426  -2.626426  96.744507          0\n",
       "1004 -0.585646 -1.247955 -2.113265 -2.114827  -2.114827  20.965543          0\n",
       "1005 -2.002910  2.700092  0.142499  4.859390   4.859390  32.970209          1\n",
       "1006  4.816134  0.275688  4.311631  0.189150   0.189150 -36.029966          1\n",
       "1007 -1.518116 -0.757731 -0.654730 -0.337132  -0.337132 -12.658276          0\n",
       "\n",
       "[1007 rows x 7 columns]"
      ]
     },
     "execution_count": 66,
     "metadata": {},
     "output_type": "execute_result"
    }
   ],
   "source": [
    "data['Direction'] = [1 if i > 0 else 0 for i in data['Close']]\n",
    "data"
   ]
  },
  {
   "attachments": {},
   "cell_type": "markdown",
   "metadata": {},
   "source": [
    "- Tách data thành features X và label y, do dự đoán cho ngày hôm sau nên X sẽ lấy từ đầu đến dòng kế cuối, y sẽ từ dòng thứ hai đến dòng cuối."
   ]
  },
  {
   "cell_type": "code",
   "execution_count": 67,
   "metadata": {},
   "outputs": [],
   "source": [
    "X= data[:-1].drop(['Direction'],axis=1)\n",
    "y = data['Direction'].iloc[1:]\n"
   ]
  },
  {
   "attachments": {},
   "cell_type": "markdown",
   "metadata": {},
   "source": [
    "- Chia dữ liệu thành tập train và test với train/test là 80/20"
   ]
  },
  {
   "cell_type": "code",
   "execution_count": 68,
   "metadata": {},
   "outputs": [],
   "source": [
    "train_size = round(0.8*len(df_AAPL))\n",
    "data_train,data_test=X.iloc[:train_size],X.iloc[train_size:]\n",
    "X_train,y_train,X_test,y_test = np.array(data_train),np.array(y.iloc[:train_size]),np.array(data_test),np.array(y.iloc[train_size:])"
   ]
  },
  {
   "attachments": {},
   "cell_type": "markdown",
   "metadata": {},
   "source": [
    "- Tạo model logistic để train trên tập train và predict trên tập test"
   ]
  },
  {
   "cell_type": "code",
   "execution_count": 69,
   "metadata": {},
   "outputs": [],
   "source": [
    "LogisR = LogisticRegression().fit(X_train, y_train)\n",
    "y_pred = LogisR.predict(X_test)"
   ]
  },
  {
   "attachments": {},
   "cell_type": "markdown",
   "metadata": {},
   "source": [
    "- Tính confusion matrix và display confusion matrix"
   ]
  },
  {
   "cell_type": "code",
   "execution_count": 70,
   "metadata": {},
   "outputs": [
    {
     "data": {
      "image/png": "[encoded data removed]",
      "text/plain": [
       "<Figure size 640x480 with 2 Axes>"
      ]
     },
     "metadata": {},
     "output_type": "display_data"
    }
   ],
   "source": [
    "cm = confusion_matrix(y_test, y_pred)\n",
    "cm_display = ConfusionMatrixDisplay(cm).plot()"
   ]
  },
  {
   "attachments": {},
   "cell_type": "markdown",
   "metadata": {},
   "source": [
    "- Báo cáo kết quả phân lớp"
   ]
  },
  {
   "cell_type": "code",
   "execution_count": 71,
   "metadata": {},
   "outputs": [
    {
     "name": "stdout",
     "output_type": "stream",
     "text": [
      "              precision    recall  f1-score   support\n",
      "\n",
      "           0       0.51      0.19      0.28       101\n",
      "           1       0.50      0.82      0.62        99\n",
      "\n",
      "    accuracy                           0.50       200\n",
      "   macro avg       0.51      0.50      0.45       200\n",
      "weighted avg       0.51      0.50      0.45       200\n",
      "\n"
     ]
    }
   ],
   "source": [
    "print(classification_report(y_test, y_pred, labels=[0,1]))"
   ]
  },
  {
   "attachments": {},
   "cell_type": "markdown",
   "metadata": {},
   "source": [
    "## 3 Tìm best hyperparameters cho model"
   ]
  },
  {
   "attachments": {},
   "cell_type": "markdown",
   "metadata": {},
   "source": [
    "- Import thư viện GridSearchCV để hỗ trợ cho việc tìm best hyperparameters"
   ]
  },
  {
   "cell_type": "code",
   "execution_count": 72,
   "metadata": {},
   "outputs": [],
   "source": [
    "from sklearn.model_selection import GridSearchCV"
   ]
  },
  {
   "attachments": {},
   "cell_type": "markdown",
   "metadata": {},
   "source": [
    "- Khởi tạo các parameter để tìm"
   ]
  },
  {
   "cell_type": "code",
   "execution_count": 73,
   "metadata": {},
   "outputs": [],
   "source": [
    "param_grid = [    \n",
    "    {'penalty' : ['l1', 'l2', 'elasticnet', 'none'],\n",
    "    'C' : np.logspace(-4, 4, 20),\n",
    "    'solver' : ['lbfgs', 'liblinear', 'newton-cg', 'newton-cholesky', 'sag', 'saga'],\n",
    "    'max_iter' : [100, 1000,2500, 5000]\n",
    "    }]"
   ]
  },
  {
   "attachments": {},
   "cell_type": "markdown",
   "metadata": {},
   "source": [
    "- Tìm model với best hyperparameters"
   ]
  },
  {
   "cell_type": "code",
   "execution_count": 74,
   "metadata": {},
   "outputs": [
    {
     "name": "stdout",
     "output_type": "stream",
     "text": [
      "Fitting 3 folds for each of 1920 candidates, totalling 5760 fits\n"
     ]
    },
    {
     "name": "stderr",
     "output_type": "stream",
     "text": [
      "c:\\Users\\trann\\AppData\\Local\\Programs\\Python\\Python310\\lib\\site-packages\\sklearn\\model_selection\\_validation.py:378: FitFailedWarning: \n",
      "3120 fits failed out of a total of 5760.\n",
      "The score on these train-test partitions for these parameters will be set to nan.\n",
      "If these failures are not expected, you can try to debug them by setting error_score='raise'.\n",
      "\n",
      "Below are more details about the failures:\n",
      "--------------------------------------------------------------------------------\n",
      "240 fits failed with the following error:\n",
      "Traceback (most recent call last):\n",
      "  File \"c:\\Users\\trann\\AppData\\Local\\Programs\\Python\\Python310\\lib\\site-packages\\sklearn\\model_selection\\_validation.py\", line 686, in _fit_and_score\n",
      "    estimator.fit(X_train, y_train, **fit_params)\n",
      "  File \"c:\\Users\\trann\\AppData\\Local\\Programs\\Python\\Python310\\lib\\site-packages\\sklearn\\linear_model\\_logistic.py\", line 1091, in fit\n",
      "    solver = _check_solver(self.solver, self.penalty, self.dual)\n",
      "  File \"c:\\Users\\trann\\AppData\\Local\\Programs\\Python\\Python310\\lib\\site-packages\\sklearn\\linear_model\\_logistic.py\", line 61, in _check_solver\n",
      "    raise ValueError(\n",
      "ValueError: Solver lbfgs supports only 'l2' or 'none' penalties, got l1 penalty.\n",
      "\n",
      "--------------------------------------------------------------------------------\n",
      "240 fits failed with the following error:\n",
      "Traceback (most recent call last):\n",
      "  File \"c:\\Users\\trann\\AppData\\Local\\Programs\\Python\\Python310\\lib\\site-packages\\sklearn\\model_selection\\_validation.py\", line 686, in _fit_and_score\n",
      "    estimator.fit(X_train, y_train, **fit_params)\n",
      "  File \"c:\\Users\\trann\\AppData\\Local\\Programs\\Python\\Python310\\lib\\site-packages\\sklearn\\linear_model\\_logistic.py\", line 1091, in fit\n",
      "    solver = _check_solver(self.solver, self.penalty, self.dual)\n",
      "  File \"c:\\Users\\trann\\AppData\\Local\\Programs\\Python\\Python310\\lib\\site-packages\\sklearn\\linear_model\\_logistic.py\", line 61, in _check_solver\n",
      "    raise ValueError(\n",
      "ValueError: Solver newton-cg supports only 'l2' or 'none' penalties, got l1 penalty.\n",
      "\n",
      "--------------------------------------------------------------------------------\n",
      "960 fits failed with the following error:\n",
      "Traceback (most recent call last):\n",
      "  File \"c:\\Users\\trann\\AppData\\Local\\Programs\\Python\\Python310\\lib\\site-packages\\sklearn\\model_selection\\_validation.py\", line 686, in _fit_and_score\n",
      "    estimator.fit(X_train, y_train, **fit_params)\n",
      "  File \"c:\\Users\\trann\\AppData\\Local\\Programs\\Python\\Python310\\lib\\site-packages\\sklearn\\linear_model\\_logistic.py\", line 1091, in fit\n",
      "    solver = _check_solver(self.solver, self.penalty, self.dual)\n",
      "  File \"c:\\Users\\trann\\AppData\\Local\\Programs\\Python\\Python310\\lib\\site-packages\\sklearn\\linear_model\\_logistic.py\", line 48, in _check_solver\n",
      "    raise ValueError(\n",
      "ValueError: Logistic Regression supports only solvers in ['liblinear', 'newton-cg', 'lbfgs', 'sag', 'saga'], got newton-cholesky.\n",
      "\n",
      "--------------------------------------------------------------------------------\n",
      "240 fits failed with the following error:\n",
      "Traceback (most recent call last):\n",
      "  File \"c:\\Users\\trann\\AppData\\Local\\Programs\\Python\\Python310\\lib\\site-packages\\sklearn\\model_selection\\_validation.py\", line 686, in _fit_and_score\n",
      "    estimator.fit(X_train, y_train, **fit_params)\n",
      "  File \"c:\\Users\\trann\\AppData\\Local\\Programs\\Python\\Python310\\lib\\site-packages\\sklearn\\linear_model\\_logistic.py\", line 1091, in fit\n",
      "    solver = _check_solver(self.solver, self.penalty, self.dual)\n",
      "  File \"c:\\Users\\trann\\AppData\\Local\\Programs\\Python\\Python310\\lib\\site-packages\\sklearn\\linear_model\\_logistic.py\", line 61, in _check_solver\n",
      "    raise ValueError(\n",
      "ValueError: Solver sag supports only 'l2' or 'none' penalties, got l1 penalty.\n",
      "\n",
      "--------------------------------------------------------------------------------\n",
      "240 fits failed with the following error:\n",
      "Traceback (most recent call last):\n",
      "  File \"c:\\Users\\trann\\AppData\\Local\\Programs\\Python\\Python310\\lib\\site-packages\\sklearn\\model_selection\\_validation.py\", line 686, in _fit_and_score\n",
      "    estimator.fit(X_train, y_train, **fit_params)\n",
      "  File \"c:\\Users\\trann\\AppData\\Local\\Programs\\Python\\Python310\\lib\\site-packages\\sklearn\\linear_model\\_logistic.py\", line 1091, in fit\n",
      "    solver = _check_solver(self.solver, self.penalty, self.dual)\n",
      "  File \"c:\\Users\\trann\\AppData\\Local\\Programs\\Python\\Python310\\lib\\site-packages\\sklearn\\linear_model\\_logistic.py\", line 61, in _check_solver\n",
      "    raise ValueError(\n",
      "ValueError: Solver lbfgs supports only 'l2' or 'none' penalties, got elasticnet penalty.\n",
      "\n",
      "--------------------------------------------------------------------------------\n",
      "240 fits failed with the following error:\n",
      "Traceback (most recent call last):\n",
      "  File \"c:\\Users\\trann\\AppData\\Local\\Programs\\Python\\Python310\\lib\\site-packages\\sklearn\\model_selection\\_validation.py\", line 686, in _fit_and_score\n",
      "    estimator.fit(X_train, y_train, **fit_params)\n",
      "  File \"c:\\Users\\trann\\AppData\\Local\\Programs\\Python\\Python310\\lib\\site-packages\\sklearn\\linear_model\\_logistic.py\", line 1091, in fit\n",
      "    solver = _check_solver(self.solver, self.penalty, self.dual)\n",
      "  File \"c:\\Users\\trann\\AppData\\Local\\Programs\\Python\\Python310\\lib\\site-packages\\sklearn\\linear_model\\_logistic.py\", line 71, in _check_solver\n",
      "    raise ValueError(\n",
      "ValueError: Only 'saga' solver supports elasticnet penalty, got solver=liblinear.\n",
      "\n",
      "--------------------------------------------------------------------------------\n",
      "240 fits failed with the following error:\n",
      "Traceback (most recent call last):\n",
      "  File \"c:\\Users\\trann\\AppData\\Local\\Programs\\Python\\Python310\\lib\\site-packages\\sklearn\\model_selection\\_validation.py\", line 686, in _fit_and_score\n",
      "    estimator.fit(X_train, y_train, **fit_params)\n",
      "  File \"c:\\Users\\trann\\AppData\\Local\\Programs\\Python\\Python310\\lib\\site-packages\\sklearn\\linear_model\\_logistic.py\", line 1091, in fit\n",
      "    solver = _check_solver(self.solver, self.penalty, self.dual)\n",
      "  File \"c:\\Users\\trann\\AppData\\Local\\Programs\\Python\\Python310\\lib\\site-packages\\sklearn\\linear_model\\_logistic.py\", line 61, in _check_solver\n",
      "    raise ValueError(\n",
      "ValueError: Solver newton-cg supports only 'l2' or 'none' penalties, got elasticnet penalty.\n",
      "\n",
      "--------------------------------------------------------------------------------\n",
      "240 fits failed with the following error:\n",
      "Traceback (most recent call last):\n",
      "  File \"c:\\Users\\trann\\AppData\\Local\\Programs\\Python\\Python310\\lib\\site-packages\\sklearn\\model_selection\\_validation.py\", line 686, in _fit_and_score\n",
      "    estimator.fit(X_train, y_train, **fit_params)\n",
      "  File \"c:\\Users\\trann\\AppData\\Local\\Programs\\Python\\Python310\\lib\\site-packages\\sklearn\\linear_model\\_logistic.py\", line 1091, in fit\n",
      "    solver = _check_solver(self.solver, self.penalty, self.dual)\n",
      "  File \"c:\\Users\\trann\\AppData\\Local\\Programs\\Python\\Python310\\lib\\site-packages\\sklearn\\linear_model\\_logistic.py\", line 61, in _check_solver\n",
      "    raise ValueError(\n",
      "ValueError: Solver sag supports only 'l2' or 'none' penalties, got elasticnet penalty.\n",
      "\n",
      "--------------------------------------------------------------------------------\n",
      "240 fits failed with the following error:\n",
      "Traceback (most recent call last):\n",
      "  File \"c:\\Users\\trann\\AppData\\Local\\Programs\\Python\\Python310\\lib\\site-packages\\sklearn\\model_selection\\_validation.py\", line 686, in _fit_and_score\n",
      "    estimator.fit(X_train, y_train, **fit_params)\n",
      "  File \"c:\\Users\\trann\\AppData\\Local\\Programs\\Python\\Python310\\lib\\site-packages\\sklearn\\linear_model\\_logistic.py\", line 1101, in fit\n",
      "    raise ValueError(\n",
      "ValueError: l1_ratio must be between 0 and 1; got (l1_ratio=None)\n",
      "\n",
      "--------------------------------------------------------------------------------\n",
      "240 fits failed with the following error:\n",
      "Traceback (most recent call last):\n",
      "  File \"c:\\Users\\trann\\AppData\\Local\\Programs\\Python\\Python310\\lib\\site-packages\\sklearn\\model_selection\\_validation.py\", line 686, in _fit_and_score\n",
      "    estimator.fit(X_train, y_train, **fit_params)\n",
      "  File \"c:\\Users\\trann\\AppData\\Local\\Programs\\Python\\Python310\\lib\\site-packages\\sklearn\\linear_model\\_logistic.py\", line 1091, in fit\n",
      "    solver = _check_solver(self.solver, self.penalty, self.dual)\n",
      "  File \"c:\\Users\\trann\\AppData\\Local\\Programs\\Python\\Python310\\lib\\site-packages\\sklearn\\linear_model\\_logistic.py\", line 78, in _check_solver\n",
      "    raise ValueError(\"penalty='none' is not supported for the liblinear solver\")\n",
      "ValueError: penalty='none' is not supported for the liblinear solver\n",
      "\n",
      "  warnings.warn(some_fits_failed_message, FitFailedWarning)\n",
      "c:\\Users\\trann\\AppData\\Local\\Programs\\Python\\Python310\\lib\\site-packages\\sklearn\\model_selection\\_search.py:953: UserWarning: One or more of the test scores are non-finite: [       nan 0.45781779        nan ...        nan 0.53598642 0.53474727]\n",
      "  warnings.warn(\n"
     ]
    }
   ],
   "source": [
    "LogisR = LogisticRegression()\n",
    "clf = GridSearchCV(LogisR, param_grid = param_grid, cv = 3, verbose=True, n_jobs=-1)\n",
    "bestModel = clf.fit(X_train,y_train)"
   ]
  },
  {
   "attachments": {},
   "cell_type": "markdown",
   "metadata": {},
   "source": [
    "- In ra màn hình best model"
   ]
  },
  {
   "cell_type": "code",
   "execution_count": 75,
   "metadata": {},
   "outputs": [
    {
     "name": "stdout",
     "output_type": "stream",
     "text": [
      "LogisticRegression(C=0.0018329807108324356, max_iter=2500, solver='sag')\n"
     ]
    }
   ],
   "source": [
    "print(bestModel.best_estimator_)"
   ]
  },
  {
   "attachments": {},
   "cell_type": "markdown",
   "metadata": {},
   "source": [
    "- Train và predict bằng best model vừa tìm được"
   ]
  },
  {
   "cell_type": "code",
   "execution_count": 76,
   "metadata": {},
   "outputs": [
    {
     "name": "stderr",
     "output_type": "stream",
     "text": [
      "c:\\Users\\trann\\AppData\\Local\\Programs\\Python\\Python310\\lib\\site-packages\\sklearn\\linear_model\\_logistic.py:1113: UserWarning: Setting penalty='none' will ignore the C and l1_ratio parameters\n",
      "  warnings.warn(\n",
      "c:\\Users\\trann\\AppData\\Local\\Programs\\Python\\Python310\\lib\\site-packages\\sklearn\\linear_model\\_sag.py:350: ConvergenceWarning: The max_iter was reached which means the coef_ did not converge\n",
      "  warnings.warn(\n"
     ]
    }
   ],
   "source": [
    "tunnedLogR = LogisticRegression(C=0.004832930238571752, penalty='none', solver='sag').fit(X_train,y_train)\n",
    "y_pred = tunnedLogR.predict(X_test)"
   ]
  },
  {
   "attachments": {},
   "cell_type": "markdown",
   "metadata": {},
   "source": [
    "- Tính confusion matrix và display confusion matrix"
   ]
  },
  {
   "cell_type": "code",
   "execution_count": 77,
   "metadata": {},
   "outputs": [
    {
     "data": {
      "image/png": "[encoded data removed]",
      "text/plain": [
       "<Figure size 640x480 with 2 Axes>"
      ]
     },
     "metadata": {},
     "output_type": "display_data"
    }
   ],
   "source": [
    "cm = confusion_matrix(y_test, y_pred)\n",
    "cm_display = ConfusionMatrixDisplay(cm).plot()"
   ]
  },
  {
   "attachments": {},
   "cell_type": "markdown",
   "metadata": {},
   "source": [
    "- Báo cáo kết quả phân lớp"
   ]
  },
  {
   "cell_type": "code",
   "execution_count": 78,
   "metadata": {},
   "outputs": [
    {
     "name": "stdout",
     "output_type": "stream",
     "text": [
      "              precision    recall  f1-score   support\n",
      "\n",
      "           0       0.56      0.29      0.38       101\n",
      "           1       0.51      0.77      0.62        99\n",
      "\n",
      "    accuracy                           0.53       200\n",
      "   macro avg       0.54      0.53      0.50       200\n",
      "weighted avg       0.54      0.53      0.50       200\n",
      "\n"
     ]
    }
   ],
   "source": [
    "print(classification_report(y_test, y_pred, labels=[0,1]))"
   ]
  },
  {
   "attachments": {},
   "cell_type": "markdown",
   "metadata": {},
   "source": [
    "- Tìm ra feature tốt nhất trong các feature bằng RFE (recursive feature elimination)"
   ]
  },
  {
   "cell_type": "code",
   "execution_count": 79,
   "metadata": {},
   "outputs": [
    {
     "data": {
      "text/plain": [
       "Index(['Adj Close'], dtype='object')"
      ]
     },
     "execution_count": 79,
     "metadata": {},
     "output_type": "execute_result"
    }
   ],
   "source": [
    "from sklearn.feature_selection import RFE\n",
    "rfe_selector = RFE(estimator=LogisticRegression(),n_features_to_select = 1, step = 1)\n",
    "X_candidates = data_train\n",
    "y_candidates = y_train\n",
    "rfe_selector.fit(X_candidates, y_candidates)\n",
    "X_candidates.columns[rfe_selector.get_support()]"
   ]
  }
 ],
 "metadata": {
  "kernelspec": {
   "display_name": "Python 3",
   "language": "python",
   "name": "python3"
  },
  "language_info": {
   "codemirror_mode": {
    "name": "ipython",
    "version": 3
   },
   "file_extension": ".py",
   "mimetype": "text/x-python",
   "name": "python",
   "nbconvert_exporter": "python",
   "pygments_lexer": "ipython3",
   "version": "3.10.8"
  },
  "orig_nbformat": 4,
  "vscode": {
   "interpreter": {
    "hash": "31ca1d8e2757b62ce03346936515128aee50d02fa28a1f28f1e5adb83409ac57"
   }
  }
 },
 "nbformat": 4,
 "nbformat_minor": 2
}
