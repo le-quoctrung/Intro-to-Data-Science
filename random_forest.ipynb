{
 "cells": [
  {
   "cell_type": "code",
   "execution_count": 3,
   "metadata": {},
   "outputs": [],
   "source": [
    "import pandas as pd\n",
    "import numpy as np\n",
    "import random\n",
    "import time\n",
    "import pickle\n",
    "from sklearn.preprocessing import OneHotEncoder\n",
    "from Statistics import Statistics\n",
    "from sklearn.ensemble import RandomForestClassifier"
   ]
  },
  {
   "cell_type": "code",
   "execution_count": 4,
   "metadata": {},
   "outputs": [
    {
     "name": "stdout",
     "output_type": "stream",
     "text": [
      "3.10.6 (main, Nov 14 2022, 16:10:14) [GCC 11.3.0]\n"
     ]
    }
   ],
   "source": [
    "import sys\n",
    "import os\n",
    "print(sys.version)\n",
    "\n",
    "SEED = 9\n",
    "os.environ['PYTHONHASHSEED']=str(SEED)\n",
    "random.seed(SEED)\n",
    "np.random.seed(SEED)"
   ]
  },
  {
   "cell_type": "code",
   "execution_count": 12,
   "metadata": {},
   "outputs": [],
   "source": [
    "SP500_df = pd.read_csv('data/SPXconst.csv')\n",
    "all_companies = list(set(SP500_df.values.flatten()))\n",
    "all_companies.remove(np.nan)\n",
    "\n",
    "constituents = {'-'.join(col.split('/')[::-1]):set(SP500_df[col].dropna()) \n",
    "                for col in SP500_df.columns}\n"
   ]
  },
  {
   "cell_type": "code",
   "execution_count": 13,
   "metadata": {},
   "outputs": [],
   "source": [
    "constituents_train = {} \n",
    "for test_year in range(1993,2016):\n",
    "    months = [str(t)+'-0'+str(m) if m<10 else str(t)+'-'+str(m) \n",
    "              for t in range(test_year-3,test_year) for m in range(1,13)]\n",
    "    constituents_train[test_year] = [list(constituents[m]) for m in months]\n",
    "    constituents_train[test_year] = set([i for sublist in constituents_train[test_year] for i in sublist])"
   ]
  },
  {
   "cell_type": "code",
   "execution_count": 14,
   "metadata": {},
   "outputs": [],
   "source": [
    "\n",
    "def trainer(train_data,test_data):\n",
    "    random.seed(SEED)\n",
    "    np.random.seed(SEED)\n",
    "    \n",
    "    train_x,train_y = train_data[:,2:-2],train_data[:,-1]\n",
    "    train_y = train_y.astype('int')\n",
    "\n",
    "    print('Started training')\n",
    "    clf = RandomForestClassifier(n_estimators=1000, max_depth=20, random_state = SEED, n_jobs=-1)\n",
    "    clf.fit(train_x,train_y)\n",
    "    print('Completed ',clf.score(train_x,train_y))\n",
    "\n",
    "    dates = list(set(test_data[:,0]))\n",
    "    predictions = {}\n",
    "    for day in dates:\n",
    "        test_d = test_data[test_data[:,0]==day]\n",
    "        test_d = test_d[:,2:-2] \n",
    "        predictions[day] = clf.predict_proba(test_d)[:,1]\n",
    "    return predictions\n"
   ]
  },
  {
   "cell_type": "code",
   "execution_count": 15,
   "metadata": {},
   "outputs": [],
   "source": [
    "\n",
    "def simulate(test_data,predictions):\n",
    "    rets = pd.DataFrame([],columns=['Long','Short'])\n",
    "    k = 10\n",
    "    for day in sorted(predictions.keys()):\n",
    "        preds = predictions[day]\n",
    "        test_returns = test_data[test_data[:,0]==day][:,-2]\n",
    "        top_preds = predictions[day].argsort()[-k:][::-1] \n",
    "        trans_long = test_returns[top_preds]\n",
    "        worst_preds = predictions[day].argsort()[:k][::-1] \n",
    "        trans_short = -test_returns[worst_preds]\n",
    "        rets.loc[day] = [np.mean(trans_long),np.mean(trans_short)] "
   ]
  },
  {
   "cell_type": "code",
   "execution_count": 16,
   "metadata": {},
   "outputs": [],
   "source": [
    "def create_label(df,perc=[0.5,0.5]):\n",
    "    perc = [0.]+list(np.cumsum(perc))\n",
    "    label = df.iloc[:,1:].pct_change(fill_method=None)[1:].apply(\n",
    "        lambda x: pd.qcut(x.rank(method='first'),perc,labels=False), axis=1)\n",
    "    return label"
   ]
  },
  {
   "cell_type": "code",
   "execution_count": 17,
   "metadata": {},
   "outputs": [],
   "source": [
    "def create_stock_data(df,st):\n",
    "    st_data = pd.DataFrame([])\n",
    "    st_data['Date'] = list(df['Date'])\n",
    "    st_data['Name'] = [st]*len(st_data)\n",
    "    for k in list(range(1,21))+list(range(40,241,20)):\n",
    "        st_data['R'+str(k)] = df[st].pct_change(k)\n",
    "    st_data['R-future'] = df[st].pct_change().shift(-1)    \n",
    "    st_data['label'] = list(label[st])+[np.nan] \n",
    "    st_data['Month'] = list(df['Date'].str[:-3])\n",
    "    st_data = st_data.dropna()\n",
    "    \n",
    "    trade_year = st_data['Month'].str[:4]\n",
    "    st_data = st_data.drop(columns=['Month'])\n",
    "    st_train_data = st_data[trade_year<str(test_year)]\n",
    "    st_test_data = st_data[trade_year==str(test_year)]\n",
    "    return np.array(st_train_data),np.array(st_test_data)\n",
    "\n",
    "result_folder = 'results-NextDay-240-1-RF'\n",
    "for directory in [result_folder]:\n",
    "    if not os.path.exists(directory):\n",
    "        os.makedirs(directory)\n",
    "\n"
   ]
  },
  {
   "cell_type": "code",
   "execution_count": 20,
   "metadata": {},
   "outputs": [
    {
     "name": "stdout",
     "output_type": "stream",
     "text": [
      "----------------------------------------\n",
      "1993\n",
      "----------------------------------------\n",
      "Created : (251577, 35) (121278, 35) 13.173539161682129\n",
      "[['1990-12-12' 'S1' 0.00555575341002168 ... -0.10036641707822214\n",
      "  -0.03119650551915465 0.0]\n",
      " ['1990-12-13' 'S1' -0.03119650551915465 ... -0.09079074199231074\n",
      "  -0.011619192688499758 0.0]\n",
      " ['1990-12-14' 'S1' -0.011619192688499758 ... -0.09624330753845556\n",
      "  -0.035686545266246705 0.0]\n",
      " ...\n",
      " ['1992-12-29' 'S997' 0.027464998510575045 ... -0.05225485145114206\n",
      "  0.002065696393366512 1.0]\n",
      " ['1992-12-30' 'S997' 0.002065696393366512 ... -0.05754154907494502\n",
      "  -0.007001656383586741 0.0]\n",
      " ['1992-12-31' 'S997' -0.007001656383586741 ... -0.07539735991379315\n",
      "  -0.009899114979786572 0.0]]\n"
     ]
    }
   ],
   "source": [
    "test_year = 1993\n",
    "#for test_year in range(1993,2020):\n",
    "    \n",
    "print('-'*40)\n",
    "print(test_year)\n",
    "print('-'*40)\n",
    "\n",
    "filename = 'data/Close-'+str(test_year-3)+'.csv'\n",
    "df = pd.read_csv(filename)\n",
    "\n",
    "label = create_label(df)\n",
    "stock_names = sorted(list(constituents[str(test_year-1)+'-12']))\n",
    "train_data,test_data = [],[]\n",
    "\n",
    "start = time.time()\n",
    "for st in stock_names:\n",
    "    st_train_data,st_test_data = create_stock_data(df,st)\n",
    "    train_data.append(st_train_data)\n",
    "    test_data.append(st_test_data)\n",
    "\n",
    "train_data = np.concatenate([x for x in train_data])\n",
    "test_data = np.concatenate([x for x in test_data])\n",
    "\n",
    "print('Created :',train_data.shape,test_data.shape,time.time()-start)\n",
    "print(train_data)\n"
   ]
  },
  {
   "cell_type": "code",
   "execution_count": null,
   "metadata": {},
   "outputs": [],
   "source": [
    "\n",
    "predictions = trainer(train_data,test_data)\n",
    "returns = simulate(test_data,predictions)\n",
    "result = Statistics(returns.sum(axis=1))\n",
    "print('\\nAverage returns prior to transaction charges')\n",
    "result.shortreport() \n",
    "\n",
    "with open(result_folder+'/predictions-'+str(test_year)+'.pickle', 'wb') as handle:\n",
    "    pickle.dump(predictions, handle, protocol=pickle.HIGHEST_PROTOCOL)\n",
    "\n",
    "returns.to_csv(result_folder+'/avg_daily_rets-'+str(test_year)+'.csv')\n",
    "with open(result_folder+\"/avg_returns.txt\", \"a\") as myfile:\n",
    "    res = '-'*30 + '\\n' \n",
    "    res += str(test_year) + '\\n'\n",
    "    res += 'Mean = ' + str(result.mean()) + '\\n'\n",
    "    res += 'Sharpe = '+str(result.sharpe()) + '\\n'\n",
    "    res += '-'*30 + '\\n'\n",
    "    myfile.write(res)\n"
   ]
  },
  {
   "cell_type": "code",
   "execution_count": null,
   "metadata": {},
   "outputs": [],
   "source": []
  }
 ],
 "metadata": {
  "kernelspec": {
   "display_name": "Python 3",
   "language": "python",
   "name": "python3"
  },
  "language_info": {
   "codemirror_mode": {
    "name": "ipython",
    "version": 3
   },
   "file_extension": ".py",
   "mimetype": "text/x-python",
   "name": "python",
   "nbconvert_exporter": "python",
   "pygments_lexer": "ipython3",
   "version": "3.10.5 (tags/v3.10.5:f377153, Jun  6 2022, 16:14:13) [MSC v.1929 64 bit (AMD64)]"
  },
  "orig_nbformat": 4,
  "vscode": {
   "interpreter": {
    "hash": "02db1ca8877ff892d809445f01ff657bb89f610b44b4bfedf67b5956a70073ec"
   }
  }
 },
 "nbformat": 4,
 "nbformat_minor": 2
}
