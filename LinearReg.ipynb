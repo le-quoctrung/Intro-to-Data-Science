{
 "cells": [
  {
   "cell_type": "code",
   "execution_count": 5,
   "metadata": {},
   "outputs": [],
   "source": [
    "import pandas as pd\n",
    "import numpy as np\n",
    "import matplotlib.pyplot as plt\n",
    "from sklearn.linear_model import LinearRegression"
   ]
  },
  {
   "cell_type": "code",
   "execution_count": 6,
   "metadata": {},
   "outputs": [
    {
     "data": {
      "text/plain": [
       "array(['AAPL', 'MSFT', 'GOOG', 'AMZN', 'BRK-A', 'TSLA', 'UNH', 'JNJ',\n",
       "       'XOM', 'V'], dtype=object)"
      ]
     },
     "execution_count": 6,
     "metadata": {},
     "output_type": "execute_result"
    }
   ],
   "source": [
    "df = pd.read_csv('data/price.csv')\n",
    "df['Ticker'].unique()"
   ]
  },
  {
   "cell_type": "code",
   "execution_count": 7,
   "metadata": {},
   "outputs": [
    {
     "data": {
      "text/html": [
       "<div>\n",
       "<style scoped>\n",
       "    .dataframe tbody tr th:only-of-type {\n",
       "        vertical-align: middle;\n",
       "    }\n",
       "\n",
       "    .dataframe tbody tr th {\n",
       "        vertical-align: top;\n",
       "    }\n",
       "\n",
       "    .dataframe thead th {\n",
       "        text-align: right;\n",
       "    }\n",
       "</style>\n",
       "<table border=\"1\" class=\"dataframe\">\n",
       "  <thead>\n",
       "    <tr style=\"text-align: right;\">\n",
       "      <th></th>\n",
       "      <th>Date</th>\n",
       "      <th>Open</th>\n",
       "      <th>High</th>\n",
       "      <th>Low</th>\n",
       "      <th>Close</th>\n",
       "      <th>Adj Close</th>\n",
       "      <th>Volume</th>\n",
       "      <th>Ticker</th>\n",
       "    </tr>\n",
       "  </thead>\n",
       "  <tbody>\n",
       "    <tr>\n",
       "      <th>0</th>\n",
       "      <td>2018-12-03</td>\n",
       "      <td>46.115002</td>\n",
       "      <td>46.235001</td>\n",
       "      <td>45.302502</td>\n",
       "      <td>46.205002</td>\n",
       "      <td>44.595947</td>\n",
       "      <td>163210000</td>\n",
       "      <td>AAPL</td>\n",
       "    </tr>\n",
       "    <tr>\n",
       "      <th>1</th>\n",
       "      <td>2018-12-04</td>\n",
       "      <td>45.237499</td>\n",
       "      <td>45.597500</td>\n",
       "      <td>44.067501</td>\n",
       "      <td>44.172501</td>\n",
       "      <td>42.634228</td>\n",
       "      <td>165377200</td>\n",
       "      <td>AAPL</td>\n",
       "    </tr>\n",
       "    <tr>\n",
       "      <th>2</th>\n",
       "      <td>2018-12-06</td>\n",
       "      <td>42.939999</td>\n",
       "      <td>43.695000</td>\n",
       "      <td>42.605000</td>\n",
       "      <td>43.680000</td>\n",
       "      <td>42.158878</td>\n",
       "      <td>172393600</td>\n",
       "      <td>AAPL</td>\n",
       "    </tr>\n",
       "    <tr>\n",
       "      <th>3</th>\n",
       "      <td>2018-12-07</td>\n",
       "      <td>43.372501</td>\n",
       "      <td>43.622501</td>\n",
       "      <td>42.075001</td>\n",
       "      <td>42.122501</td>\n",
       "      <td>40.655613</td>\n",
       "      <td>169126400</td>\n",
       "      <td>AAPL</td>\n",
       "    </tr>\n",
       "    <tr>\n",
       "      <th>4</th>\n",
       "      <td>2018-12-10</td>\n",
       "      <td>41.250000</td>\n",
       "      <td>42.522499</td>\n",
       "      <td>40.832500</td>\n",
       "      <td>42.400002</td>\n",
       "      <td>40.923454</td>\n",
       "      <td>248104000</td>\n",
       "      <td>AAPL</td>\n",
       "    </tr>\n",
       "    <tr>\n",
       "      <th>...</th>\n",
       "      <td>...</td>\n",
       "      <td>...</td>\n",
       "      <td>...</td>\n",
       "      <td>...</td>\n",
       "      <td>...</td>\n",
       "      <td>...</td>\n",
       "      <td>...</td>\n",
       "      <td>...</td>\n",
       "    </tr>\n",
       "    <tr>\n",
       "      <th>1003</th>\n",
       "      <td>2022-11-28</td>\n",
       "      <td>145.139999</td>\n",
       "      <td>146.639999</td>\n",
       "      <td>143.380005</td>\n",
       "      <td>144.220001</td>\n",
       "      <td>144.220001</td>\n",
       "      <td>69246000</td>\n",
       "      <td>AAPL</td>\n",
       "    </tr>\n",
       "    <tr>\n",
       "      <th>1004</th>\n",
       "      <td>2022-11-29</td>\n",
       "      <td>144.289993</td>\n",
       "      <td>144.809998</td>\n",
       "      <td>140.350006</td>\n",
       "      <td>141.169998</td>\n",
       "      <td>141.169998</td>\n",
       "      <td>83763800</td>\n",
       "      <td>AAPL</td>\n",
       "    </tr>\n",
       "    <tr>\n",
       "      <th>1005</th>\n",
       "      <td>2022-11-30</td>\n",
       "      <td>141.399994</td>\n",
       "      <td>148.720001</td>\n",
       "      <td>140.550003</td>\n",
       "      <td>148.029999</td>\n",
       "      <td>148.029999</td>\n",
       "      <td>111380900</td>\n",
       "      <td>AAPL</td>\n",
       "    </tr>\n",
       "    <tr>\n",
       "      <th>1006</th>\n",
       "      <td>2022-12-01</td>\n",
       "      <td>148.210007</td>\n",
       "      <td>149.130005</td>\n",
       "      <td>146.610001</td>\n",
       "      <td>148.309998</td>\n",
       "      <td>148.309998</td>\n",
       "      <td>71250400</td>\n",
       "      <td>AAPL</td>\n",
       "    </tr>\n",
       "    <tr>\n",
       "      <th>1007</th>\n",
       "      <td>2022-12-02</td>\n",
       "      <td>145.960007</td>\n",
       "      <td>148.000000</td>\n",
       "      <td>145.650101</td>\n",
       "      <td>147.809998</td>\n",
       "      <td>147.809998</td>\n",
       "      <td>62231328</td>\n",
       "      <td>AAPL</td>\n",
       "    </tr>\n",
       "  </tbody>\n",
       "</table>\n",
       "<p>1008 rows × 8 columns</p>\n",
       "</div>"
      ],
      "text/plain": [
       "            Date        Open        High         Low       Close   Adj Close  \\\n",
       "0     2018-12-03   46.115002   46.235001   45.302502   46.205002   44.595947   \n",
       "1     2018-12-04   45.237499   45.597500   44.067501   44.172501   42.634228   \n",
       "2     2018-12-06   42.939999   43.695000   42.605000   43.680000   42.158878   \n",
       "3     2018-12-07   43.372501   43.622501   42.075001   42.122501   40.655613   \n",
       "4     2018-12-10   41.250000   42.522499   40.832500   42.400002   40.923454   \n",
       "...          ...         ...         ...         ...         ...         ...   \n",
       "1003  2022-11-28  145.139999  146.639999  143.380005  144.220001  144.220001   \n",
       "1004  2022-11-29  144.289993  144.809998  140.350006  141.169998  141.169998   \n",
       "1005  2022-11-30  141.399994  148.720001  140.550003  148.029999  148.029999   \n",
       "1006  2022-12-01  148.210007  149.130005  146.610001  148.309998  148.309998   \n",
       "1007  2022-12-02  145.960007  148.000000  145.650101  147.809998  147.809998   \n",
       "\n",
       "         Volume Ticker  \n",
       "0     163210000   AAPL  \n",
       "1     165377200   AAPL  \n",
       "2     172393600   AAPL  \n",
       "3     169126400   AAPL  \n",
       "4     248104000   AAPL  \n",
       "...         ...    ...  \n",
       "1003   69246000   AAPL  \n",
       "1004   83763800   AAPL  \n",
       "1005  111380900   AAPL  \n",
       "1006   71250400   AAPL  \n",
       "1007   62231328   AAPL  \n",
       "\n",
       "[1008 rows x 8 columns]"
      ]
     },
     "execution_count": 7,
     "metadata": {},
     "output_type": "execute_result"
    }
   ],
   "source": [
    "df_AAPL = df.loc[df['Ticker']=='AAPL']\n",
    "df_AAPL"
   ]
  },
  {
   "cell_type": "code",
   "execution_count": 4,
   "metadata": {},
   "outputs": [
    {
     "data": {
      "text/html": [
       "<div>\n",
       "<style scoped>\n",
       "    .dataframe tbody tr th:only-of-type {\n",
       "        vertical-align: middle;\n",
       "    }\n",
       "\n",
       "    .dataframe tbody tr th {\n",
       "        vertical-align: top;\n",
       "    }\n",
       "\n",
       "    .dataframe thead th {\n",
       "        text-align: right;\n",
       "    }\n",
       "</style>\n",
       "<table border=\"1\" class=\"dataframe\">\n",
       "  <thead>\n",
       "    <tr style=\"text-align: right;\">\n",
       "      <th></th>\n",
       "      <th>Open</th>\n",
       "      <th>High</th>\n",
       "      <th>Low</th>\n",
       "      <th>Close</th>\n",
       "      <th>Adj Close</th>\n",
       "      <th>Volume</th>\n",
       "    </tr>\n",
       "  </thead>\n",
       "  <tbody>\n",
       "    <tr>\n",
       "      <th>0</th>\n",
       "      <td>46.115002</td>\n",
       "      <td>46.235001</td>\n",
       "      <td>45.302502</td>\n",
       "      <td>46.205002</td>\n",
       "      <td>44.595947</td>\n",
       "      <td>163210000</td>\n",
       "    </tr>\n",
       "    <tr>\n",
       "      <th>1</th>\n",
       "      <td>45.237499</td>\n",
       "      <td>45.597500</td>\n",
       "      <td>44.067501</td>\n",
       "      <td>44.172501</td>\n",
       "      <td>42.634228</td>\n",
       "      <td>165377200</td>\n",
       "    </tr>\n",
       "    <tr>\n",
       "      <th>2</th>\n",
       "      <td>42.939999</td>\n",
       "      <td>43.695000</td>\n",
       "      <td>42.605000</td>\n",
       "      <td>43.680000</td>\n",
       "      <td>42.158878</td>\n",
       "      <td>172393600</td>\n",
       "    </tr>\n",
       "    <tr>\n",
       "      <th>3</th>\n",
       "      <td>43.372501</td>\n",
       "      <td>43.622501</td>\n",
       "      <td>42.075001</td>\n",
       "      <td>42.122501</td>\n",
       "      <td>40.655613</td>\n",
       "      <td>169126400</td>\n",
       "    </tr>\n",
       "    <tr>\n",
       "      <th>4</th>\n",
       "      <td>41.250000</td>\n",
       "      <td>42.522499</td>\n",
       "      <td>40.832500</td>\n",
       "      <td>42.400002</td>\n",
       "      <td>40.923454</td>\n",
       "      <td>248104000</td>\n",
       "    </tr>\n",
       "    <tr>\n",
       "      <th>...</th>\n",
       "      <td>...</td>\n",
       "      <td>...</td>\n",
       "      <td>...</td>\n",
       "      <td>...</td>\n",
       "      <td>...</td>\n",
       "      <td>...</td>\n",
       "    </tr>\n",
       "    <tr>\n",
       "      <th>1002</th>\n",
       "      <td>148.309998</td>\n",
       "      <td>148.880005</td>\n",
       "      <td>147.119995</td>\n",
       "      <td>148.110001</td>\n",
       "      <td>148.110001</td>\n",
       "      <td>35195900</td>\n",
       "    </tr>\n",
       "    <tr>\n",
       "      <th>1003</th>\n",
       "      <td>145.139999</td>\n",
       "      <td>146.639999</td>\n",
       "      <td>143.380005</td>\n",
       "      <td>144.220001</td>\n",
       "      <td>144.220001</td>\n",
       "      <td>69246000</td>\n",
       "    </tr>\n",
       "    <tr>\n",
       "      <th>1004</th>\n",
       "      <td>144.289993</td>\n",
       "      <td>144.809998</td>\n",
       "      <td>140.350006</td>\n",
       "      <td>141.169998</td>\n",
       "      <td>141.169998</td>\n",
       "      <td>83763800</td>\n",
       "    </tr>\n",
       "    <tr>\n",
       "      <th>1005</th>\n",
       "      <td>141.399994</td>\n",
       "      <td>148.720001</td>\n",
       "      <td>140.550003</td>\n",
       "      <td>148.029999</td>\n",
       "      <td>148.029999</td>\n",
       "      <td>111380900</td>\n",
       "    </tr>\n",
       "    <tr>\n",
       "      <th>1006</th>\n",
       "      <td>148.210007</td>\n",
       "      <td>149.130005</td>\n",
       "      <td>146.610001</td>\n",
       "      <td>148.309998</td>\n",
       "      <td>148.309998</td>\n",
       "      <td>71250400</td>\n",
       "    </tr>\n",
       "  </tbody>\n",
       "</table>\n",
       "<p>1007 rows × 6 columns</p>\n",
       "</div>"
      ],
      "text/plain": [
       "            Open        High         Low       Close   Adj Close     Volume\n",
       "0      46.115002   46.235001   45.302502   46.205002   44.595947  163210000\n",
       "1      45.237499   45.597500   44.067501   44.172501   42.634228  165377200\n",
       "2      42.939999   43.695000   42.605000   43.680000   42.158878  172393600\n",
       "3      43.372501   43.622501   42.075001   42.122501   40.655613  169126400\n",
       "4      41.250000   42.522499   40.832500   42.400002   40.923454  248104000\n",
       "...          ...         ...         ...         ...         ...        ...\n",
       "1002  148.309998  148.880005  147.119995  148.110001  148.110001   35195900\n",
       "1003  145.139999  146.639999  143.380005  144.220001  144.220001   69246000\n",
       "1004  144.289993  144.809998  140.350006  141.169998  141.169998   83763800\n",
       "1005  141.399994  148.720001  140.550003  148.029999  148.029999  111380900\n",
       "1006  148.210007  149.130005  146.610001  148.309998  148.309998   71250400\n",
       "\n",
       "[1007 rows x 6 columns]"
      ]
     },
     "execution_count": 4,
     "metadata": {},
     "output_type": "execute_result"
    }
   ],
   "source": [
    "X,y = df_AAPL[:-1].drop(columns=['Ticker','Date']), df_AAPL['Open'][1:]\n",
    "X"
   ]
  },
  {
   "cell_type": "code",
   "execution_count": 5,
   "metadata": {},
   "outputs": [
    {
     "data": {
      "text/plain": [
       "0        45.237499\n",
       "1        42.939999\n",
       "2        43.372501\n",
       "3        41.250000\n",
       "4        42.915001\n",
       "           ...    \n",
       "1002    145.139999\n",
       "1003    144.289993\n",
       "1004    141.399994\n",
       "1005    148.210007\n",
       "1006    145.960007\n",
       "Name: Open, Length: 1007, dtype: float64"
      ]
     },
     "execution_count": 5,
     "metadata": {},
     "output_type": "execute_result"
    }
   ],
   "source": [
    "y.reset_index(drop=True)"
   ]
  },
  {
   "cell_type": "code",
   "execution_count": 6,
   "metadata": {},
   "outputs": [],
   "source": [
    "train_size = round(0.8*len(df_AAPL))\n",
    "data_train,data_test=X.iloc[:train_size],X.iloc[train_size:]\n",
    "X_train,y_train,X_test,y_test = np.array(X.iloc[:train_size]),np.array(y.iloc[:train_size]),np.array(X.iloc[train_size:]),np.array(y.iloc[train_size:])"
   ]
  },
  {
   "cell_type": "code",
   "execution_count": 7,
   "metadata": {},
   "outputs": [
    {
     "name": "stdout",
     "output_type": "stream",
     "text": [
      "1.8258106916732346\n"
     ]
    }
   ],
   "source": [
    "LR = LinearRegression()\n",
    "LR.fit(X_train,y_train)\n",
    "y_pred =LR.predict(X_test)\n",
    "rmse=np.sqrt(np.mean(np.power((np.array(y_test)-np.array(y_pred)),2)))\n",
    "print(rmse)"
   ]
  },
  {
   "cell_type": "code",
   "execution_count": 8,
   "metadata": {},
   "outputs": [
    {
     "name": "stderr",
     "output_type": "stream",
     "text": [
      "C:\\Users\\trann\\AppData\\Local\\Temp\\ipykernel_17940\\3986365771.py:2: SettingWithCopyWarning: \n",
      "A value is trying to be set on a copy of a slice from a DataFrame.\n",
      "Try using .loc[row_indexer,col_indexer] = value instead\n",
      "\n",
      "See the caveats in the documentation: https://pandas.pydata.org/pandas-docs/stable/user_guide/indexing.html#returning-a-view-versus-a-copy\n",
      "  data_test['Predictions'] = y_pred\n"
     ]
    },
    {
     "data": {
      "text/plain": [
       "<matplotlib.legend.Legend at 0x208ffc62320>"
      ]
     },
     "execution_count": 8,
     "metadata": {},
     "output_type": "execute_result"
    },
    {
     "data": {
      "image/png": "[encoded data removed]",
      "text/plain": [
       "<Figure size 1600x800 with 1 Axes>"
      ]
     },
     "metadata": {},
     "output_type": "display_data"
    }
   ],
   "source": [
    "plt.figure(figsize=(16,8))\n",
    "data_test['Predictions'] = y_pred\n",
    "plt.plot(data_train['Open'])\n",
    "plt.plot(data_test[['Open', 'Predictions']])\n",
    "plt.legend(['Train', 'Val', 'Predictions'], loc='lower right')"
   ]
  },
  {
   "cell_type": "code",
   "execution_count": 9,
   "metadata": {},
   "outputs": [
    {
     "data": {
      "text/plain": [
       "array([-3.01038088e-01,  2.12474547e-01,  2.50826680e-01,  1.30417888e+00,\n",
       "       -4.64265278e-01, -1.03674624e-10])"
      ]
     },
     "execution_count": 9,
     "metadata": {},
     "output_type": "execute_result"
    }
   ],
   "source": [
    "LR.coef_"
   ]
  }
 ],
 "metadata": {
  "kernelspec": {
   "display_name": "Python 3",
   "language": "python",
   "name": "python3"
  },
  "language_info": {
   "codemirror_mode": {
    "name": "ipython",
    "version": 3
   },
   "file_extension": ".py",
   "mimetype": "text/x-python",
   "name": "python",
   "nbconvert_exporter": "python",
   "pygments_lexer": "ipython3",
   "version": "3.10.8"
  },
  "orig_nbformat": 4,
  "vscode": {
   "interpreter": {
    "hash": "31ca1d8e2757b62ce03346936515128aee50d02fa28a1f28f1e5adb83409ac57"
   }
  }
 },
 "nbformat": 4,
 "nbformat_minor": 2
}
